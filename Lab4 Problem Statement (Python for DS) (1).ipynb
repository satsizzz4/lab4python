{
 "cells": [
  {
   "cell_type": "markdown",
   "id": "1bd3906b",
   "metadata": {
    "id": "1bd3906b"
   },
   "source": [
    "## Lab Session "
   ]
  },
  {
   "cell_type": "markdown",
   "id": "ccfb2855",
   "metadata": {
    "id": "ccfb2855"
   },
   "source": [
    "### Learning Objective:\n",
    "- Working with data using python libaries.\n",
    "- Data Visualization.\n",
    "- Exploratory data analysis and data preprocessing.\n",
    "- Building a Linear regression model to predict the tip amount based on different input features."
   ]
  },
  {
   "cell_type": "markdown",
   "id": "61ef0de3",
   "metadata": {
    "id": "61ef0de3"
   },
   "source": [
    "### About the dataset (Customer Tip Data)\n",
    "\n",
    "#### Dataset Source: https://www.kaggle.com/datasets/ranjeetjain3/seaborn-tips-dataset\n",
    "\n",
    "The dataset contains information about the 244 orders served at a restaurant in the United States. Each observation includes the factors related to the order like total bill, time, the total number of people in a group, gender of the person paying for the order and so on.\n",
    "\n",
    "#### Attribute Information:\n",
    "\n",
    "- **total_bill:** Total bill (cost of the meal), including tax, in US dollars\n",
    "- **tip:** Tip in US dollars\n",
    "- **sex:** Sex of person paying for the meal\n",
    "- **smoker:** There is a smoker in a group or not\n",
    "- **day:** Day on which the order is served\n",
    "- **time:** Time of the order\n",
    "- **size:** Size of the group\n",
    "\n",
    "Food servers’ tips in restaurants may be influenced by many factors, including the nature of the restaurant, size of the party, and table locations in the restaurant. Restaurant managers need to know which factors matter when they assign tables to food servers. For the sake of staff morale, they usually want to avoid either the substance or the appearance of unfair\n",
    "treatment of the servers, for whom tips (at least in restaurants in the UnitedStates) are a major component of pay."
   ]
  },
  {
   "cell_type": "markdown",
   "id": "e4e44e06",
   "metadata": {
    "id": "e4e44e06"
   },
   "source": [
    "### Import required libraries"
   ]
  },
  {
   "cell_type": "code",
   "execution_count": null,
   "id": "89b9d6d7",
   "metadata": {
    "id": "89b9d6d7"
   },
   "outputs": [],
   "source": [
    "import pandas as pd\n",
    "import numpy as np\n",
    "import seaborn as sns\n",
    "import matplotlib.pyplot as plt\n",
    "from sklearn.model_selection import train_test_split\n",
    "from sklearn.linear_model import LinearRegression\n",
    "from sklearn.preprocessing import MinMaxScaler\n",
    "from sklearn.metrics import r2_score"
   ]
  },
  {
   "cell_type": "markdown",
   "id": "9ead3dea",
   "metadata": {
    "id": "9ead3dea"
   },
   "source": [
    "### Load the dataset"
   ]
  },
  {
   "cell_type": "code",
   "execution_count": null,
   "id": "a9ba115f",
   "metadata": {
    "id": "a9ba115f"
   },
   "outputs": [],
   "source": [
    "url = \"https://www.kaggle.com/datasets/ranjeetjain3/seaborn-tips-dataset\""
   ]
  },
  {
   "cell_type": "markdown",
   "id": "42cd8e14",
   "metadata": {
    "id": "42cd8e14"
   },
   "source": [
    "### 1. Make a list of categorical and numerical columns in the data."
   ]
  },
  {
   "cell_type": "code",
   "execution_count": null,
   "id": "abc60524",
   "metadata": {
    "id": "abc60524"
   },
   "outputs": [],
   "source": [
    "categorical_columns = tips_df.select_dtypes(include='object').columns.tolist()\n",
    "numerical_columns = tips_df.select_dtypes(include=np.number).columns.tolist()"
   ]
  },
  {
   "cell_type": "markdown",
   "id": "41ef8841",
   "metadata": {
    "id": "41ef8841"
   },
   "source": [
    "### 2. Compute the average bill amount for each day."
   ]
  },
  {
   "cell_type": "code",
   "execution_count": null,
   "id": "75b5c0f2",
   "metadata": {
    "id": "75b5c0f2"
   },
   "outputs": [],
   "source": [
    "average_bill_per_day = tips_df.groupby('day')['total_bill'].mean()"
   ]
  },
  {
   "cell_type": "markdown",
   "id": "18894954",
   "metadata": {
    "id": "18894954"
   },
   "source": [
    "### 3. Which gender is more generous in giving tips?"
   ]
  },
  {
   "cell_type": "code",
   "execution_count": null,
   "id": "f506a83a",
   "metadata": {
    "id": "f506a83a"
   },
   "outputs": [],
   "source": [
    "average_tip_by_gender = tips_df.groupby('sex')['tip'].mean()\n",
    "more_generous_gender = average_tip_by_gender.idxmax()"
   ]
  },
  {
   "cell_type": "markdown",
   "id": "984e3dbf",
   "metadata": {
    "id": "984e3dbf"
   },
   "source": [
    "### 4. According to the data, were there more customers for dinner or lunch?"
   ]
  },
  {
   "cell_type": "code",
   "execution_count": null,
   "id": "d5cabe95",
   "metadata": {
    "id": "d5cabe95"
   },
   "outputs": [],
   "source": [
    "customer_count_by_time = tips_df['time'].value_counts()\n",
    "more_customers_time = customer_count_by_time.idxmax()"
   ]
  },
  {
   "cell_type": "markdown",
   "id": "6cd773f0",
   "metadata": {
    "id": "6cd773f0"
   },
   "source": [
    "### 5. Based on the statistical summary, comment on the variable 'tip'"
   ]
  },
  {
   "cell_type": "code",
   "execution_count": null,
   "id": "6ba68900",
   "metadata": {
    "id": "6ba68900"
   },
   "outputs": [],
   "source": [
    "tip_summary = tips_df['tip'].describe()\n"
   ]
  },
  {
   "cell_type": "markdown",
   "id": "d9c31198",
   "metadata": {
    "id": "d9c31198"
   },
   "source": [
    "### 6. Find the busiest day in terms of the orders?"
   ]
  },
  {
   "cell_type": "code",
   "execution_count": null,
   "id": "c3d6ee67",
   "metadata": {
    "id": "c3d6ee67"
   },
   "outputs": [],
   "source": [
    "busiest_day = tips_df['day'].value_counts().idxmax()"
   ]
  },
  {
   "cell_type": "markdown",
   "id": "f01ba5cf",
   "metadata": {
    "id": "f01ba5cf"
   },
   "source": [
    "### 7. Is the variable 'total_bill' skewed? If yes, identify the type of skewness. Support your answer with a plot"
   ]
  },
  {
   "cell_type": "code",
   "execution_count": null,
   "id": "05a8b7c2",
   "metadata": {
    "id": "05a8b7c2"
   },
   "outputs": [],
   "source": [
    "sns.histplot(tips_df['total_bill'], kde=True)\n",
    "plt.title('Distribution of Total Bill')\n",
    "plt.show()\n",
    "skewness_total_bill = tips_df['total_bill'].skew()\n"
   ]
  },
  {
   "cell_type": "markdown",
   "id": "0fe8fa86",
   "metadata": {
    "id": "0fe8fa86"
   },
   "source": [
    "### 8. Is the tip amount dependent on the total bill? Visualize the relationship with a appropriate plot and metric and write your findings."
   ]
  },
  {
   "cell_type": "code",
   "execution_count": null,
   "id": "d45c2da4",
   "metadata": {
    "id": "d45c2da4"
   },
   "outputs": [],
   "source": [
    "sns.scatterplot(x='total_bill', y='tip', data=tips_df)\n",
    "plt.title('Relationship between Total Bill and Tip')\n",
    "plt.show()\n",
    "correlation_total_bill_tip = tips_df['total_bill'].corr(tips_df['tip'])\n"
   ]
  },
  {
   "cell_type": "markdown",
   "id": "2469e9cc",
   "metadata": {
    "id": "2469e9cc"
   },
   "source": [
    "### 9. What is the percentage of males and females in the dataset? and display it in the plot"
   ]
  },
  {
   "cell_type": "code",
   "execution_count": null,
   "id": "0dfd6414",
   "metadata": {
    "id": "0dfd6414"
   },
   "outputs": [],
   "source": [
    "gender_percentage = tips_df['sex'].value_counts(normalize=True) * 100\n",
    "sns.countplot(x='sex', data=tips_df)\n",
    "plt.title('Gender Distribution')\n",
    "plt.show()"
   ]
  },
  {
   "cell_type": "markdown",
   "id": "35e7f9bb",
   "metadata": {
    "id": "35e7f9bb"
   },
   "source": [
    "### 10. Compute the gender-wise count based on smoking habits and display it in the plot"
   ]
  },
  {
   "cell_type": "code",
   "execution_count": null,
   "id": "a266dd22",
   "metadata": {
    "id": "a266dd22"
   },
   "outputs": [],
   "source": [
    "gender_smoker_count = tips_df.groupby(['sex', 'smoker']).size().unstack()\n",
    "gender_smoker_count.plot(kind='bar', stacked=True)\n",
    "plt.title('Gender-wise Count based on Smoking Habits')\n",
    "plt.show()"
   ]
  },
  {
   "cell_type": "markdown",
   "id": "1f8ba505",
   "metadata": {
    "id": "1f8ba505"
   },
   "source": [
    "### 11. Compute the average tip amount given for different days and display it in the plot."
   ]
  },
  {
   "cell_type": "code",
   "execution_count": null,
   "id": "13ae2148",
   "metadata": {
    "id": "13ae2148"
   },
   "outputs": [],
   "source": [
    "average_tip_by_day = tips_df.groupby('day')['tip'].mean()\n",
    "average_tip_by_day.plot(kind='bar')\n",
    "plt.title('Average Tip Amount for Different Days')\n",
    "plt.show()\n"
   ]
  },
  {
   "cell_type": "markdown",
   "id": "873f97a5",
   "metadata": {
    "id": "873f97a5"
   },
   "source": [
    "### 12. Is the average bill amount dependent on the size of the group? Visualize the relationship using appropriate plot and write your findings."
   ]
  },
  {
   "cell_type": "code",
   "execution_count": null,
   "id": "07f676ad",
   "metadata": {
    "id": "07f676ad"
   },
   "outputs": [],
   "source": [
    "sns.scatterplot(x='size', y='total_bill', data=tips_df)\n",
    "plt.title('Relationship between Size and Total Bill')\n",
    "plt.show()\n"
   ]
  },
  {
   "cell_type": "markdown",
   "id": "566ae9fe",
   "metadata": {
    "id": "566ae9fe"
   },
   "source": [
    "### 13. Plot a horizontal boxplot to compare the bill amount based on gender"
   ]
  },
  {
   "cell_type": "code",
   "execution_count": null,
   "id": "5957b3aa",
   "metadata": {
    "id": "5957b3aa"
   },
   "outputs": [],
   "source": [
    "sns.boxplot(x='total_bill', y='sex', data=tips_df, orient='h')\n",
    "plt.title('Comparison of Bill Amount based on Gender')\n",
    "plt.show()\n"
   ]
  },
  {
   "cell_type": "markdown",
   "id": "5bc13310",
   "metadata": {
    "id": "5bc13310"
   },
   "source": [
    "### 14. Find the maximum bill amount for lunch and dinner on Saturday and Sunday"
   ]
  },
  {
   "cell_type": "code",
   "execution_count": null,
   "id": "06f56d22",
   "metadata": {
    "id": "06f56d22"
   },
   "outputs": [],
   "source": [
    "max_bill_lunch_saturday_sunday = tips_df.loc[(tips_df['day'].isin(['Saturday', 'Sunday'])) & (tips_df['time'] == 'Lunch'), 'total_bill'].max()\n",
    "max_bill_dinner_saturday_sunday = tips_df.loc[(tips_df['day'].isin(['Saturday', 'Sunday'])) & (tips_df['time'] == 'Dinner'), 'total_bill'].max()\n"
   ]
  },
  {
   "cell_type": "markdown",
   "id": "aa484774",
   "metadata": {
    "id": "aa484774"
   },
   "source": [
    "### 15. Compute the percentage of missing values in the dataset."
   ]
  },
  {
   "cell_type": "code",
   "execution_count": null,
   "id": "5c9bf12e",
   "metadata": {
    "id": "5c9bf12e"
   },
   "outputs": [],
   "source": [
    "missing_percentage = tips_df.isnull().mean() * 100"
   ]
  },
  {
   "cell_type": "markdown",
   "id": "abfaf333",
   "metadata": {
    "id": "abfaf333"
   },
   "source": [
    "### 16. Is there are any duplicate records in the dataset? If yes compute the count of the duplicate records and drop them."
   ]
  },
  {
   "cell_type": "code",
   "execution_count": null,
   "id": "751f4641",
   "metadata": {
    "id": "751f4641"
   },
   "outputs": [],
   "source": [
    "duplicate_count = tips_df.duplicated().sum()\n",
    "tips_df = tips_df.drop_duplicates()"
   ]
  },
  {
   "cell_type": "markdown",
   "id": "4aa4a763",
   "metadata": {
    "id": "4aa4a763"
   },
   "source": [
    "### 17. Is there are any outliers present in the column 'total_bill'? If yes treat them with transformation approach, and plot a boxplot before and after the treatment"
   ]
  },
  {
   "cell_type": "code",
   "execution_count": null,
   "id": "c6885f21",
   "metadata": {
    "id": "c6885f21"
   },
   "outputs": [],
   "source": [
    "sns.boxplot(x='total_bill', data=tips_df)\n",
    "plt.title('Boxplot of Total Bill before Outlier Treatment')\n",
    "plt.show()\n",
    "# Apply transformation, e.g., log transformation\n",
    "tips_df['total_bill'] = np.log1p(tips_df['total_bill'])\n",
    "sns.boxplot(x='total_bill', data=tips_df)\n",
    "plt.title('Boxplot of Total Bill after Outlier Treatment')\n",
    "plt.show()"
   ]
  },
  {
   "cell_type": "markdown",
   "id": "2e8bfa6f",
   "metadata": {
    "id": "2e8bfa6f"
   },
   "source": [
    "### 18. Is there are any outliers present in the column 'tip'? If yes remove them using IQR techinque."
   ]
  },
  {
   "cell_type": "code",
   "execution_count": null,
   "id": "29d3f9e0",
   "metadata": {
    "id": "29d3f9e0"
   },
   "outputs": [],
   "source": [
    "Q1 = tips_df['tip'].quantile(0.25)\n",
    "Q3 = tips_df['tip'].quantile(0.75)\n",
    "IQR = Q3 - Q1\n",
    "tips_df = tips_df[(tips_df['tip'] >= Q1 - 1.5 * IQR) & (tips_df['tip'] <= Q3 + 1.5 * IQR)]\n"
   ]
  },
  {
   "cell_type": "markdown",
   "id": "10d91bd7",
   "metadata": {
    "id": "10d91bd7"
   },
   "source": [
    "### 19. Encode the categorical columns in the dataset and print the random 5 samples from the dataframe."
   ]
  },
  {
   "cell_type": "code",
   "execution_count": null,
   "id": "05ad1918",
   "metadata": {
    "id": "05ad1918"
   },
   "outputs": [],
   "source": [
    "encoded_tips_df = pd.get_dummies(tips_df, columns=categorical_columns, drop_first=True)\n",
    "random_samples = encoded_tips_df.sample(5)\n"
   ]
  },
  {
   "cell_type": "markdown",
   "id": "54ebc8e9",
   "metadata": {
    "id": "54ebc8e9"
   },
   "source": [
    "### 20. Check the range of the column 'total_bill' and transform the values such that the range will be 1."
   ]
  },
  {
   "cell_type": "code",
   "execution_count": null,
   "id": "fb841382",
   "metadata": {
    "id": "fb841382"
   },
   "outputs": [],
   "source": [
    "min_total_bill = encoded_tips_df['total_bill'].min()\n",
    "max_total_bill = encoded_tips_df['total_bill'].max()\n",
    "encoded_tips_df['total_bill'] = (encoded_tips_df['total_bill'] - min_total_bill) / (max_total_bill - min_total_bill)\n"
   ]
  },
  {
   "cell_type": "markdown",
   "id": "_yaGehJD5Fhe",
   "metadata": {
    "id": "_yaGehJD5Fhe"
   },
   "source": [
    "### 21. Load the dataset again by giving the name of the dataframe as \"tips_df\"\n",
    "- i) Encode the categorical variables.\n",
    "- ii) Store the target column (i.e.tip) in the y variable and the rest of the columns in the X variable"
   ]
  },
  {
   "cell_type": "code",
   "execution_count": null,
   "id": "ruS7FI5s5Jt2",
   "metadata": {
    "id": "ruS7FI5s5Jt2"
   },
   "outputs": [],
   "source": [
    "tips_df = pd.read_csv('tips.csv')\n",
    "X = pd.get_dummies(tips_df.drop('tip', axis=1), drop_first=True)\n",
    "y = tips_df['tip']\n"
   ]
  },
  {
   "cell_type": "markdown",
   "id": "6jnqKmXQ5KB9",
   "metadata": {
    "id": "6jnqKmXQ5KB9"
   },
   "source": [
    "### 22. Split the dataset into two parts (i.e. 70% train and 30% test), and Standardize the columns \"total_bill\" and \"Size\" using the mim_max scaling approach"
   ]
  },
  {
   "cell_type": "code",
   "execution_count": null,
   "id": "l-jHM1e_5OSp",
   "metadata": {
    "id": "l-jHM1e_5OSp"
   },
   "outputs": [],
   "source": [
    "X_train, X_test, y_train, y_test = train_test_split(X, y, test_size=0.3, random_state=42)\n",
    "scaler = MinMaxScaler()\n",
    "X_train[['total_bill', 'size']] = scaler.fit_transform(X_train[['total_bill', 'size']])\n",
    "X_test[['total_bill', 'size']] = scaler.transform(X_test[['total_bill', 'size']])\n"
   ]
  },
  {
   "cell_type": "markdown",
   "id": "6L5jwTPW5Oh-",
   "metadata": {
    "id": "6L5jwTPW5Oh-"
   },
   "source": [
    "### 23. Train a linear regression model using the training data and print the r_squared value of the prediction on the test data."
   ]
  },
  {
   "cell_type": "code",
   "execution_count": null,
   "id": "HODaP3gg5SHY",
   "metadata": {
    "id": "HODaP3gg5SHY"
   },
   "outputs": [],
   "source": [
    "model = LinearRegression()\n",
    "model.fit(X_train, y_train)\n",
    "y_pred = model.predict(X_test)\n",
    "r_squared_value = r2_score(y_test, y_pred)\n",
    "print(f\"R-squared value: {r_squared_value}\")\n",
    "\n",
    "# Displaying the plots and results.\n",
    "plt.show()"
   ]
  },
  {
   "cell_type": "markdown",
   "id": "388b6163",
   "metadata": {
    "id": "388b6163"
   },
   "source": [
    "### Happy Learning:)"
   ]
  }
 ],
 "metadata": {
  "colab": {
   "name": "W3 - W6 Lab Session.ipynb",
   "provenance": []
  },
  "kernelspec": {
   "display_name": "Python 3 (ipykernel)",
   "language": "python",
   "name": "python3"
  },
  "language_info": {
   "codemirror_mode": {
    "name": "ipython",
    "version": 3
   },
   "file_extension": ".py",
   "mimetype": "text/x-python",
   "name": "python",
   "nbconvert_exporter": "python",
   "pygments_lexer": "ipython3",
   "version": "3.11.5"
  }
 },
 "nbformat": 4,
 "nbformat_minor": 5
}
